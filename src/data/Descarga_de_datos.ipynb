{
 "cells": [
  {
   "cell_type": "markdown",
   "id": "dfc27d96-133c-4b04-82ae-d365a23d3d05",
   "metadata": {},
   "source": [
    "# Descarga de datos"
   ]
  },
  {
   "cell_type": "code",
   "execution_count": 1,
   "id": "6b99e28d-fa98-4e84-97f6-cf6655da204c",
   "metadata": {
    "tags": []
   },
   "outputs": [],
   "source": [
    "import pandas as pd\n",
    "import os\n",
    "import requests\n",
    "import zipfile\n",
    "import io"
   ]
  },
  {
   "cell_type": "markdown",
   "id": "d6d56be4-0b8d-4414-b0fd-24315a2452a6",
   "metadata": {},
   "source": [
    "## Descarga del archivo csv"
   ]
  },
  {
   "cell_type": "code",
   "execution_count": 2,
   "id": "a09fb7f3-e6e7-45f2-8f62-667a22e3f0fd",
   "metadata": {
    "tags": []
   },
   "outputs": [],
   "source": [
    "url = 'https://datosabiertos.salud.gob.mx/gobmx/salud/datos_abiertos/datos_abiertos_covid19.zip'\n",
    "\n",
    "# Realizar la solicitud GET para descargar el archivo ZIP\n",
    "response = requests.get(url)\n",
    "\n",
    "# Verificar si la descarga fue exitosa (código 200)\n",
    "if response.status_code == 200:\n",
    "    # Crear un objeto ZipFile a partir del contenido descargado\n",
    "    with zipfile.ZipFile(io.BytesIO(response.content)) as z:\n",
    "        # Extraer el contenido del archivo ZIP a una carpeta temporal\n",
    "        z.extractall('../../data/raw')"
   ]
  },
  {
   "cell_type": "code",
   "execution_count": 4,
   "id": "31199dc0-acbd-41d1-9e68-e165339976bd",
   "metadata": {
    "tags": []
   },
   "outputs": [],
   "source": [
    "# Leer el archivo CSV dentro del archivo ZIP usando pandas\n",
    "df = pd.read_csv('../../data/raw/COVID19MEXICO.csv', low_memory=False)"
   ]
  },
  {
   "cell_type": "code",
   "execution_count": 5,
   "id": "e1a49969-2859-4e3b-9459-0fa759e5c302",
   "metadata": {
    "tags": []
   },
   "outputs": [
    {
     "data": {
      "text/html": [
       "<div>\n",
       "<style scoped>\n",
       "    .dataframe tbody tr th:only-of-type {\n",
       "        vertical-align: middle;\n",
       "    }\n",
       "\n",
       "    .dataframe tbody tr th {\n",
       "        vertical-align: top;\n",
       "    }\n",
       "\n",
       "    .dataframe thead th {\n",
       "        text-align: right;\n",
       "    }\n",
       "</style>\n",
       "<table border=\"1\" class=\"dataframe\">\n",
       "  <thead>\n",
       "    <tr style=\"text-align: right;\">\n",
       "      <th></th>\n",
       "      <th>FECHA_ACTUALIZACION</th>\n",
       "      <th>ID_REGISTRO</th>\n",
       "      <th>ORIGEN</th>\n",
       "      <th>SECTOR</th>\n",
       "      <th>ENTIDAD_UM</th>\n",
       "      <th>SEXO</th>\n",
       "      <th>ENTIDAD_NAC</th>\n",
       "      <th>ENTIDAD_RES</th>\n",
       "      <th>MUNICIPIO_RES</th>\n",
       "      <th>TIPO_PACIENTE</th>\n",
       "      <th>...</th>\n",
       "      <th>OTRO_CASO</th>\n",
       "      <th>TOMA_MUESTRA_LAB</th>\n",
       "      <th>RESULTADO_LAB</th>\n",
       "      <th>TOMA_MUESTRA_ANTIGENO</th>\n",
       "      <th>RESULTADO_ANTIGENO</th>\n",
       "      <th>CLASIFICACION_FINAL</th>\n",
       "      <th>MIGRANTE</th>\n",
       "      <th>PAIS_NACIONALIDAD</th>\n",
       "      <th>PAIS_ORIGEN</th>\n",
       "      <th>UCI</th>\n",
       "    </tr>\n",
       "  </thead>\n",
       "  <tbody>\n",
       "    <tr>\n",
       "      <th>0</th>\n",
       "      <td>2024-04-23</td>\n",
       "      <td>c9a5ed</td>\n",
       "      <td>2</td>\n",
       "      <td>12</td>\n",
       "      <td>9</td>\n",
       "      <td>2</td>\n",
       "      <td>9</td>\n",
       "      <td>9</td>\n",
       "      <td>9</td>\n",
       "      <td>1</td>\n",
       "      <td>...</td>\n",
       "      <td>2</td>\n",
       "      <td>2</td>\n",
       "      <td>97</td>\n",
       "      <td>1</td>\n",
       "      <td>2</td>\n",
       "      <td>7</td>\n",
       "      <td>99</td>\n",
       "      <td>México</td>\n",
       "      <td>97</td>\n",
       "      <td>97</td>\n",
       "    </tr>\n",
       "    <tr>\n",
       "      <th>1</th>\n",
       "      <td>2024-04-23</td>\n",
       "      <td>cbecc9</td>\n",
       "      <td>2</td>\n",
       "      <td>6</td>\n",
       "      <td>5</td>\n",
       "      <td>1</td>\n",
       "      <td>5</td>\n",
       "      <td>5</td>\n",
       "      <td>28</td>\n",
       "      <td>1</td>\n",
       "      <td>...</td>\n",
       "      <td>2</td>\n",
       "      <td>2</td>\n",
       "      <td>97</td>\n",
       "      <td>1</td>\n",
       "      <td>2</td>\n",
       "      <td>7</td>\n",
       "      <td>99</td>\n",
       "      <td>México</td>\n",
       "      <td>97</td>\n",
       "      <td>97</td>\n",
       "    </tr>\n",
       "    <tr>\n",
       "      <th>2</th>\n",
       "      <td>2024-04-23</td>\n",
       "      <td>1b6d59</td>\n",
       "      <td>1</td>\n",
       "      <td>12</td>\n",
       "      <td>9</td>\n",
       "      <td>1</td>\n",
       "      <td>9</td>\n",
       "      <td>9</td>\n",
       "      <td>12</td>\n",
       "      <td>1</td>\n",
       "      <td>...</td>\n",
       "      <td>1</td>\n",
       "      <td>2</td>\n",
       "      <td>97</td>\n",
       "      <td>1</td>\n",
       "      <td>1</td>\n",
       "      <td>3</td>\n",
       "      <td>99</td>\n",
       "      <td>México</td>\n",
       "      <td>97</td>\n",
       "      <td>97</td>\n",
       "    </tr>\n",
       "    <tr>\n",
       "      <th>3</th>\n",
       "      <td>2024-04-23</td>\n",
       "      <td>0ed066</td>\n",
       "      <td>2</td>\n",
       "      <td>12</td>\n",
       "      <td>16</td>\n",
       "      <td>2</td>\n",
       "      <td>16</td>\n",
       "      <td>16</td>\n",
       "      <td>41</td>\n",
       "      <td>1</td>\n",
       "      <td>...</td>\n",
       "      <td>2</td>\n",
       "      <td>2</td>\n",
       "      <td>97</td>\n",
       "      <td>1</td>\n",
       "      <td>2</td>\n",
       "      <td>7</td>\n",
       "      <td>99</td>\n",
       "      <td>México</td>\n",
       "      <td>97</td>\n",
       "      <td>97</td>\n",
       "    </tr>\n",
       "    <tr>\n",
       "      <th>4</th>\n",
       "      <td>2024-04-23</td>\n",
       "      <td>7aeb5d</td>\n",
       "      <td>2</td>\n",
       "      <td>12</td>\n",
       "      <td>3</td>\n",
       "      <td>1</td>\n",
       "      <td>15</td>\n",
       "      <td>3</td>\n",
       "      <td>3</td>\n",
       "      <td>1</td>\n",
       "      <td>...</td>\n",
       "      <td>1</td>\n",
       "      <td>2</td>\n",
       "      <td>97</td>\n",
       "      <td>1</td>\n",
       "      <td>2</td>\n",
       "      <td>7</td>\n",
       "      <td>99</td>\n",
       "      <td>México</td>\n",
       "      <td>97</td>\n",
       "      <td>97</td>\n",
       "    </tr>\n",
       "  </tbody>\n",
       "</table>\n",
       "<p>5 rows × 40 columns</p>\n",
       "</div>"
      ],
      "text/plain": [
       "  FECHA_ACTUALIZACION ID_REGISTRO  ORIGEN  SECTOR  ENTIDAD_UM  SEXO  \\\n",
       "0          2024-04-23      c9a5ed       2      12           9     2   \n",
       "1          2024-04-23      cbecc9       2       6           5     1   \n",
       "2          2024-04-23      1b6d59       1      12           9     1   \n",
       "3          2024-04-23      0ed066       2      12          16     2   \n",
       "4          2024-04-23      7aeb5d       2      12           3     1   \n",
       "\n",
       "   ENTIDAD_NAC  ENTIDAD_RES  MUNICIPIO_RES  TIPO_PACIENTE  ... OTRO_CASO  \\\n",
       "0            9            9              9              1  ...         2   \n",
       "1            5            5             28              1  ...         2   \n",
       "2            9            9             12              1  ...         1   \n",
       "3           16           16             41              1  ...         2   \n",
       "4           15            3              3              1  ...         1   \n",
       "\n",
       "  TOMA_MUESTRA_LAB RESULTADO_LAB  TOMA_MUESTRA_ANTIGENO  RESULTADO_ANTIGENO  \\\n",
       "0                2            97                      1                   2   \n",
       "1                2            97                      1                   2   \n",
       "2                2            97                      1                   1   \n",
       "3                2            97                      1                   2   \n",
       "4                2            97                      1                   2   \n",
       "\n",
       "   CLASIFICACION_FINAL  MIGRANTE  PAIS_NACIONALIDAD  PAIS_ORIGEN  UCI  \n",
       "0                    7        99             México           97   97  \n",
       "1                    7        99             México           97   97  \n",
       "2                    3        99             México           97   97  \n",
       "3                    7        99             México           97   97  \n",
       "4                    7        99             México           97   97  \n",
       "\n",
       "[5 rows x 40 columns]"
      ]
     },
     "execution_count": 5,
     "metadata": {},
     "output_type": "execute_result"
    }
   ],
   "source": [
    "df.head()"
   ]
  },
  {
   "cell_type": "markdown",
   "id": "736a898d-7a69-4f46-b5ce-dd024c38b2f4",
   "metadata": {},
   "source": [
    "## CSV a Parquet"
   ]
  },
  {
   "cell_type": "code",
   "execution_count": 7,
   "id": "1de1e94d-eba0-4a67-b104-96ad3d4a24ad",
   "metadata": {
    "tags": []
   },
   "outputs": [],
   "source": [
    "# Guardar el DataFrame en formato Parquet\n",
    "df.to_parquet('../../data/raw/COVID19MEXICO.parquet', index=False)"
   ]
  },
  {
   "cell_type": "markdown",
   "id": "e197d9ea-da29-4912-a29b-c7aa5082710e",
   "metadata": {},
   "source": [
    "## Descarga de catalogo y diccionario"
   ]
  },
  {
   "cell_type": "code",
   "execution_count": 164,
   "id": "8f7a53ef-b4ef-4ebf-9879-d31bfed6173a",
   "metadata": {
    "tags": []
   },
   "outputs": [],
   "source": [
    "directorio = \"../../references/raw\"\n",
    "url = 'https://datosabiertos.salud.gob.mx/gobmx/salud/datos_abiertos/diccionario_datos_covid19.zip'\n",
    "\n",
    "response = requests.get(url)\n",
    "\n",
    "if not os.path.exists(os.path.join(directorio, \"Catalogos.xlsx\")) or \\\n",
    "    not os.path.exists(os.path.join(directorio, \"Diccionario.xlsx\")):\n",
    "    if response.status_code == 200:\n",
    "        with zipfile.ZipFile(io.BytesIO(response.content)) as z:\n",
    "            z.extractall('../../references/raw')"
   ]
  },
  {
   "cell_type": "code",
   "execution_count": 165,
   "id": "2b7c50ee-2863-45ff-bad4-849aebb803fa",
   "metadata": {
    "tags": []
   },
   "outputs": [
    {
     "name": "stdout",
     "output_type": "stream",
     "text": [
      "Archivos en el directorio:\n",
      "Actualizaciones en la presentación de información referente a casos de COVID.pdf\n",
      "Catalogos.xlsx\n",
      "Diccionario.xlsx\n"
     ]
    }
   ],
   "source": [
    "archivos = []\n",
    "for archivo in os.listdir(directorio):\n",
    "    if os.path.isfile(os.path.join(directorio, archivo)):\n",
    "        archivos.append(archivo)\n",
    "\n",
    "print(\"Archivos en el directorio:\")\n",
    "for archivo in archivos:\n",
    "    print(archivo)"
   ]
  },
  {
   "cell_type": "code",
   "execution_count": 166,
   "id": "0c84bcff-a250-4570-86f0-36306b989775",
   "metadata": {
    "tags": []
   },
   "outputs": [],
   "source": [
    "if not os.path.exists(os.path.join(directorio, \"Catalogos.xlsx\")):\n",
    "    ruta_original = os.path.join(directorio, \"201128 Catalogos.xlsx\")\n",
    "    ruta_nuevo = os.path.join(directorio, \"Catalogos.xlsx\")\n",
    "    os.rename(ruta_original, ruta_nuevo)"
   ]
  },
  {
   "cell_type": "code",
   "execution_count": 167,
   "id": "ed098d9f-5618-412f-a6e4-652cd940a027",
   "metadata": {
    "tags": []
   },
   "outputs": [],
   "source": [
    "if not os.path.exists(os.path.join(directorio, \"Diccionario.xlsx\")):\n",
    "    ruta_original = os.path.join(directorio, \"201128 Descriptores_.xlsx\")\n",
    "    ruta_nuevo = os.path.join(directorio, \"Diccionario.xlsx\")\n",
    "    os.rename(ruta_original, ruta_nuevo)"
   ]
  }
 ],
 "metadata": {
  "kernelspec": {
   "display_name": "Python 3 (ipykernel)",
   "language": "python",
   "name": "python3"
  },
  "language_info": {
   "codemirror_mode": {
    "name": "ipython",
    "version": 3
   },
   "file_extension": ".py",
   "mimetype": "text/x-python",
   "name": "python",
   "nbconvert_exporter": "python",
   "pygments_lexer": "ipython3",
   "version": "3.10.9"
  }
 },
 "nbformat": 4,
 "nbformat_minor": 5
}
