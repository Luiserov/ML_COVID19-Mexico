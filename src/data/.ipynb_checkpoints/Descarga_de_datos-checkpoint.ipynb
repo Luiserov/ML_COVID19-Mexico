{
 "cells": [
  {
   "cell_type": "markdown",
   "id": "dfc27d96-133c-4b04-82ae-d365a23d3d05",
   "metadata": {},
   "source": [
    "# Descarga de datos"
   ]
  },
  {
   "cell_type": "code",
   "execution_count": 1,
   "id": "6b99e28d-fa98-4e84-97f6-cf6655da204c",
   "metadata": {
    "tags": []
   },
   "outputs": [],
   "source": [
    "# Importamos librerías a utilizar\n",
    "import pandas as pd\n",
    "import os\n",
    "import requests\n",
    "import zipfile\n",
    "import io"
   ]
  },
  {
   "cell_type": "markdown",
   "id": "d6d56be4-0b8d-4414-b0fd-24315a2452a6",
   "metadata": {},
   "source": [
    "## Descarga del archivo csv"
   ]
  },
  {
   "cell_type": "code",
   "execution_count": 2,
   "id": "a09fb7f3-e6e7-45f2-8f62-667a22e3f0fd",
   "metadata": {
    "tags": []
   },
   "outputs": [],
   "source": [
    "url = 'https://datosabiertos.salud.gob.mx/gobmx/salud/datos_abiertos/datos_abiertos_covid19.zip'\n",
    "\n",
    "# Realizar la solicitud GET para descargar el archivo ZIP\n",
    "response = requests.get(url)\n",
    "\n",
    "# Verificar si la descarga fue exitosa (código 200)\n",
    "if response.status_code == 200:\n",
    "    # Crear un objeto ZipFile a partir del contenido descargado\n",
    "    with zipfile.ZipFile(io.BytesIO(response.content)) as z:\n",
    "        # Extraer el contenido del archivo ZIP a una carpeta temporal\n",
    "        z.extractall('../../data/raw')"
   ]
  },
  {
   "cell_type": "code",
   "execution_count": 4,
   "id": "31199dc0-acbd-41d1-9e68-e165339976bd",
   "metadata": {
    "tags": []
   },
   "outputs": [],
   "source": [
    "# Leer el archivo CSV dentro del archivo ZIP usando pandas\n",
    "df = pd.read_csv('../../data/raw/COVID19MEXICO.csv', low_memory=False)"
   ]
  },
  {
   "cell_type": "code",
   "execution_count": 5,
   "id": "e1a49969-2859-4e3b-9459-0fa759e5c302",
   "metadata": {
    "tags": []
   },
   "outputs": [
    {
     "data": {
      "text/html": [
       "<div>\n",
       "<style scoped>\n",
       "    .dataframe tbody tr th:only-of-type {\n",
       "        vertical-align: middle;\n",
       "    }\n",
       "\n",
       "    .dataframe tbody tr th {\n",
       "        vertical-align: top;\n",
       "    }\n",
       "\n",
       "    .dataframe thead th {\n",
       "        text-align: right;\n",
       "    }\n",
       "</style>\n",
       "<table border=\"1\" class=\"dataframe\">\n",
       "  <thead>\n",
       "    <tr style=\"text-align: right;\">\n",
       "      <th></th>\n",
       "      <th>FECHA_ACTUALIZACION</th>\n",
       "      <th>ID_REGISTRO</th>\n",
       "      <th>ORIGEN</th>\n",
       "      <th>SECTOR</th>\n",
       "      <th>ENTIDAD_UM</th>\n",
       "      <th>SEXO</th>\n",
       "      <th>ENTIDAD_NAC</th>\n",
       "      <th>ENTIDAD_RES</th>\n",
       "      <th>MUNICIPIO_RES</th>\n",
       "      <th>TIPO_PACIENTE</th>\n",
       "      <th>...</th>\n",
       "      <th>OTRO_CASO</th>\n",
       "      <th>TOMA_MUESTRA_LAB</th>\n",
       "      <th>RESULTADO_LAB</th>\n",
       "      <th>TOMA_MUESTRA_ANTIGENO</th>\n",
       "      <th>RESULTADO_ANTIGENO</th>\n",
       "      <th>CLASIFICACION_FINAL</th>\n",
       "      <th>MIGRANTE</th>\n",
       "      <th>PAIS_NACIONALIDAD</th>\n",
       "      <th>PAIS_ORIGEN</th>\n",
       "      <th>UCI</th>\n",
       "    </tr>\n",
       "  </thead>\n",
       "  <tbody>\n",
       "    <tr>\n",
       "      <th>0</th>\n",
       "      <td>2024-04-23</td>\n",
       "      <td>c9a5ed</td>\n",
       "      <td>2</td>\n",
       "      <td>12</td>\n",
       "      <td>9</td>\n",
       "      <td>2</td>\n",
       "      <td>9</td>\n",
       "      <td>9</td>\n",
       "      <td>9</td>\n",
       "      <td>1</td>\n",
       "      <td>...</td>\n",
       "      <td>2</td>\n",
       "      <td>2</td>\n",
       "      <td>97</td>\n",
       "      <td>1</td>\n",
       "      <td>2</td>\n",
       "      <td>7</td>\n",
       "      <td>99</td>\n",
       "      <td>México</td>\n",
       "      <td>97</td>\n",
       "      <td>97</td>\n",
       "    </tr>\n",
       "    <tr>\n",
       "      <th>1</th>\n",
       "      <td>2024-04-23</td>\n",
       "      <td>cbecc9</td>\n",
       "      <td>2</td>\n",
       "      <td>6</td>\n",
       "      <td>5</td>\n",
       "      <td>1</td>\n",
       "      <td>5</td>\n",
       "      <td>5</td>\n",
       "      <td>28</td>\n",
       "      <td>1</td>\n",
       "      <td>...</td>\n",
       "      <td>2</td>\n",
       "      <td>2</td>\n",
       "      <td>97</td>\n",
       "      <td>1</td>\n",
       "      <td>2</td>\n",
       "      <td>7</td>\n",
       "      <td>99</td>\n",
       "      <td>México</td>\n",
       "      <td>97</td>\n",
       "      <td>97</td>\n",
       "    </tr>\n",
       "    <tr>\n",
       "      <th>2</th>\n",
       "      <td>2024-04-23</td>\n",
       "      <td>1b6d59</td>\n",
       "      <td>1</td>\n",
       "      <td>12</td>\n",
       "      <td>9</td>\n",
       "      <td>1</td>\n",
       "      <td>9</td>\n",
       "      <td>9</td>\n",
       "      <td>12</td>\n",
       "      <td>1</td>\n",
       "      <td>...</td>\n",
       "      <td>1</td>\n",
       "      <td>2</td>\n",
       "      <td>97</td>\n",
       "      <td>1</td>\n",
       "      <td>1</td>\n",
       "      <td>3</td>\n",
       "      <td>99</td>\n",
       "      <td>México</td>\n",
       "      <td>97</td>\n",
       "      <td>97</td>\n",
       "    </tr>\n",
       "    <tr>\n",
       "      <th>3</th>\n",
       "      <td>2024-04-23</td>\n",
       "      <td>0ed066</td>\n",
       "      <td>2</td>\n",
       "      <td>12</td>\n",
       "      <td>16</td>\n",
       "      <td>2</td>\n",
       "      <td>16</td>\n",
       "      <td>16</td>\n",
       "      <td>41</td>\n",
       "      <td>1</td>\n",
       "      <td>...</td>\n",
       "      <td>2</td>\n",
       "      <td>2</td>\n",
       "      <td>97</td>\n",
       "      <td>1</td>\n",
       "      <td>2</td>\n",
       "      <td>7</td>\n",
       "      <td>99</td>\n",
       "      <td>México</td>\n",
       "      <td>97</td>\n",
       "      <td>97</td>\n",
       "    </tr>\n",
       "    <tr>\n",
       "      <th>4</th>\n",
       "      <td>2024-04-23</td>\n",
       "      <td>7aeb5d</td>\n",
       "      <td>2</td>\n",
       "      <td>12</td>\n",
       "      <td>3</td>\n",
       "      <td>1</td>\n",
       "      <td>15</td>\n",
       "      <td>3</td>\n",
       "      <td>3</td>\n",
       "      <td>1</td>\n",
       "      <td>...</td>\n",
       "      <td>1</td>\n",
       "      <td>2</td>\n",
       "      <td>97</td>\n",
       "      <td>1</td>\n",
       "      <td>2</td>\n",
       "      <td>7</td>\n",
       "      <td>99</td>\n",
       "      <td>México</td>\n",
       "      <td>97</td>\n",
       "      <td>97</td>\n",
       "    </tr>\n",
       "  </tbody>\n",
       "</table>\n",
       "<p>5 rows × 40 columns</p>\n",
       "</div>"
      ],
      "text/plain": [
       "  FECHA_ACTUALIZACION ID_REGISTRO  ORIGEN  SECTOR  ENTIDAD_UM  SEXO  \\\n",
       "0          2024-04-23      c9a5ed       2      12           9     2   \n",
       "1          2024-04-23      cbecc9       2       6           5     1   \n",
       "2          2024-04-23      1b6d59       1      12           9     1   \n",
       "3          2024-04-23      0ed066       2      12          16     2   \n",
       "4          2024-04-23      7aeb5d       2      12           3     1   \n",
       "\n",
       "   ENTIDAD_NAC  ENTIDAD_RES  MUNICIPIO_RES  TIPO_PACIENTE  ... OTRO_CASO  \\\n",
       "0            9            9              9              1  ...         2   \n",
       "1            5            5             28              1  ...         2   \n",
       "2            9            9             12              1  ...         1   \n",
       "3           16           16             41              1  ...         2   \n",
       "4           15            3              3              1  ...         1   \n",
       "\n",
       "  TOMA_MUESTRA_LAB RESULTADO_LAB  TOMA_MUESTRA_ANTIGENO  RESULTADO_ANTIGENO  \\\n",
       "0                2            97                      1                   2   \n",
       "1                2            97                      1                   2   \n",
       "2                2            97                      1                   1   \n",
       "3                2            97                      1                   2   \n",
       "4                2            97                      1                   2   \n",
       "\n",
       "   CLASIFICACION_FINAL  MIGRANTE  PAIS_NACIONALIDAD  PAIS_ORIGEN  UCI  \n",
       "0                    7        99             México           97   97  \n",
       "1                    7        99             México           97   97  \n",
       "2                    3        99             México           97   97  \n",
       "3                    7        99             México           97   97  \n",
       "4                    7        99             México           97   97  \n",
       "\n",
       "[5 rows x 40 columns]"
      ]
     },
     "execution_count": 5,
     "metadata": {},
     "output_type": "execute_result"
    }
   ],
   "source": [
    "df.head()"
   ]
  },
  {
   "cell_type": "markdown",
   "id": "736a898d-7a69-4f46-b5ce-dd024c38b2f4",
   "metadata": {},
   "source": [
    "## CSV a Parquet"
   ]
  },
  {
   "cell_type": "code",
   "execution_count": 7,
   "id": "1de1e94d-eba0-4a67-b104-96ad3d4a24ad",
   "metadata": {
    "tags": []
   },
   "outputs": [],
   "source": [
    "# Guardar el DataFrame en formato Parquet\n",
    "df.to_parquet('../../data/raw/COVID19MEXICO.parquet', index=False)"
   ]
  },
  {
   "cell_type": "markdown",
   "id": "e197d9ea-da29-4912-a29b-c7aa5082710e",
   "metadata": {},
   "source": [
    "## Diccionario"
   ]
  },
  {
   "cell_type": "code",
   "execution_count": 66,
   "id": "0c8d5d17-c380-4123-897c-7784c49483e3",
   "metadata": {
    "tags": []
   },
   "outputs": [],
   "source": [
    "nombres_columnas = list(df.columns)\n",
    "diccionario_raw = pd.DataFrame({'Variables': nombres_columnas})"
   ]
  },
  {
   "cell_type": "code",
   "execution_count": 67,
   "id": "265bb618-fca4-4551-90ab-5c2a8d9d58a3",
   "metadata": {
    "tags": []
   },
   "outputs": [],
   "source": [
    "diccionario_raw['Tipo de dato'] = df.dtypes.values"
   ]
  },
  {
   "cell_type": "code",
   "execution_count": 68,
   "id": "f96d3f97-a50f-4ba0-94de-77d38aaf17ec",
   "metadata": {
    "tags": []
   },
   "outputs": [
    {
     "data": {
      "text/html": [
       "<div>\n",
       "<style scoped>\n",
       "    .dataframe tbody tr th:only-of-type {\n",
       "        vertical-align: middle;\n",
       "    }\n",
       "\n",
       "    .dataframe tbody tr th {\n",
       "        vertical-align: top;\n",
       "    }\n",
       "\n",
       "    .dataframe thead th {\n",
       "        text-align: right;\n",
       "    }\n",
       "</style>\n",
       "<table border=\"1\" class=\"dataframe\">\n",
       "  <thead>\n",
       "    <tr style=\"text-align: right;\">\n",
       "      <th></th>\n",
       "      <th>Variables</th>\n",
       "      <th>Tipo de dato</th>\n",
       "    </tr>\n",
       "  </thead>\n",
       "  <tbody>\n",
       "    <tr>\n",
       "      <th>0</th>\n",
       "      <td>FECHA_ACTUALIZACION</td>\n",
       "      <td>object</td>\n",
       "    </tr>\n",
       "    <tr>\n",
       "      <th>1</th>\n",
       "      <td>ID_REGISTRO</td>\n",
       "      <td>object</td>\n",
       "    </tr>\n",
       "    <tr>\n",
       "      <th>2</th>\n",
       "      <td>ORIGEN</td>\n",
       "      <td>int64</td>\n",
       "    </tr>\n",
       "    <tr>\n",
       "      <th>3</th>\n",
       "      <td>SECTOR</td>\n",
       "      <td>int64</td>\n",
       "    </tr>\n",
       "    <tr>\n",
       "      <th>4</th>\n",
       "      <td>ENTIDAD_UM</td>\n",
       "      <td>int64</td>\n",
       "    </tr>\n",
       "  </tbody>\n",
       "</table>\n",
       "</div>"
      ],
      "text/plain": [
       "             Variables Tipo de dato\n",
       "0  FECHA_ACTUALIZACION       object\n",
       "1          ID_REGISTRO       object\n",
       "2               ORIGEN        int64\n",
       "3               SECTOR        int64\n",
       "4           ENTIDAD_UM        int64"
      ]
     },
     "execution_count": 68,
     "metadata": {},
     "output_type": "execute_result"
    }
   ],
   "source": [
    "diccionario_raw.head()"
   ]
  },
  {
   "cell_type": "code",
   "execution_count": null,
   "id": "897d746c-d191-4802-8998-0f60b99ec44c",
   "metadata": {},
   "outputs": [],
   "source": [
    "for i in nombres_columnas:\n",
    "    print(i)"
   ]
  },
  {
   "cell_type": "code",
   "execution_count": 120,
   "id": "17502b12-6988-42db-b6e4-afe095a41d1d",
   "metadata": {
    "tags": []
   },
   "outputs": [
    {
     "data": {
      "text/plain": [
       "97    1156855\n",
       "2      132982\n",
       "1        6624\n",
       "99        256\n",
       "Name: INTUBADO, dtype: int64"
      ]
     },
     "execution_count": 120,
     "metadata": {},
     "output_type": "execute_result"
    }
   ],
   "source": [
    "df.INTUBADO.value_counts()"
   ]
  },
  {
   "cell_type": "code",
   "execution_count": null,
   "id": "757b3600-97a6-4a51-b03a-3c5b444c1e49",
   "metadata": {},
   "outputs": [],
   "source": [
    "text = \"\"\"\n",
    "FECHA_ACTUALIZACION: Feha en la que se subieron los datos\n",
    "ID_REGISTRO:  ID de registro\n",
    "ORIGEN: {1: Hombre, 2: Mujer}\n",
    "SECTOR\n",
    "ENTIDAD_UM\n",
    "SEXO: {1: Hombre, 2: Mujer}\n",
    "ENTIDAD_NAC: Estado al que pertenece\n",
    "ENTIDAD_RES\n",
    "MUNICIPIO_RES: Municipio al que pertenece\n",
    "TIPO_PACIENTE\n",
    "FECHA_INGRESO: Fecha en la que ingreso el paciente\n",
    "FECHA_SINTOMAS: Fecha en la que se presentaron los sintomas\n",
    "FECHA_DEF: Fecha de defunción\n",
    "INTUBADO\n",
    "NEUMONIA: {1:,2:,99:Desconocido}\n",
    "EDAD: Edad del paciente\n",
    "NACIONALIDAD: {1: Mexicana, 2:E}\n",
    "EMBARAZO: {1: No embarazada, 2: Embarazada}\n",
    "HABLA_LENGUA_INDIG: {1: Si habla lengua indigena, 2: No habla lengua indigena, 99:Desconocido}\n",
    "INDIGENA: {1: Indigena, 2: No indigena, 99:Desconocido}\n",
    "DIABETES: {1: Con diabetes, 2: Sin deabetes, 99:Desconocido}\n",
    "EPOC\n",
    "ASMA: {1: Con asma, 2: Sin asma, 99:Desconocido}\n",
    "INMUSUPR: {1: Si, 2: NO, 99:Desconocido}\n",
    "HIPERTENSION: {1: Con hipertension, 2: Sin hipertension, 99:Desconocido}\n",
    "OTRA_COM\n",
    "CARDIOVASCULAR: {1: Si, 2: NO, 99:Desconocido}\n",
    "OBESIDAD: {1: Con obesidad, 2: Sin obesidad, 99:Desconocido}\n",
    "RENAL_CRONICA: {1: Si, 2: NO, 99:Desconocido}\n",
    "TABAQUISMO: {1: Si, 2: NO, 99:Desconocido}\n",
    "OTRO_CASO\n",
    "TOMA_MUESTRA_LAB\n",
    "RESULTADO_LAB\n",
    "TOMA_MUESTRA_ANTIGENO\n",
    "RESULTADO_ANTIGENO\n",
    "CLASIFICACION_FINAL: {1:Caso COVID19 confimado por asosiación clínica epidemiológica,2:Caso COVID19 confirmado por comité de dictaminación,3:Caso SARS-COV-2 confirmado,4:Inválido por laboratorio,5:No realizado por laboratorio,6:Caso sospechoso,7:Negativo a SARS-COV-2}\n",
    "MIGRANTE\n",
    "PAIS_NACIONALIDAD: Nacionalidad del paciente\n",
    "PAIS_ORIGEN: Pais de origen\n",
    "UCI\n",
    "\"\"\""
   ]
  },
  {
   "cell_type": "code",
   "execution_count": 65,
   "id": "80703dbf-f499-4950-b0ad-6688fa5574b6",
   "metadata": {
    "tags": []
   },
   "outputs": [],
   "source": [
    "diccionario_raw.to_excel('../../references/raw_data_dictionary.xlsx')"
   ]
  },
  {
   "cell_type": "code",
   "execution_count": null,
   "id": "5f9a6063-dc0b-4742-988e-e2ea3e767039",
   "metadata": {},
   "outputs": [],
   "source": [
    "text.to_excel('../../references/raw_data_dictionary.txt')"
   ]
  }
 ],
 "metadata": {
  "kernelspec": {
   "display_name": "Python 3 (ipykernel)",
   "language": "python",
   "name": "python3"
  },
  "language_info": {
   "codemirror_mode": {
    "name": "ipython",
    "version": 3
   },
   "file_extension": ".py",
   "mimetype": "text/x-python",
   "name": "python",
   "nbconvert_exporter": "python",
   "pygments_lexer": "ipython3",
   "version": "3.10.9"
  }
 },
 "nbformat": 4,
 "nbformat_minor": 5
}
